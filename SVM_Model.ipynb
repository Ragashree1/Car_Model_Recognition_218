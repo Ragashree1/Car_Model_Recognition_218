{
  "cells": [
    {
      "cell_type": "markdown",
      "metadata": {
        "id": "7RhbizF66JDj"
      },
      "source": [
        "# Importing Dataset from gdrive"
      ]
    },
    {
      "cell_type": "code",
      "execution_count": null,
      "metadata": {
        "colab": {
          "base_uri": "https://localhost:8080/"
        },
        "id": "duX0hZoM5lCE",
        "outputId": "4db6025b-7e73-42cf-a8b5-092a16d90f84"
      },
      "outputs": [
        {
          "output_type": "stream",
          "name": "stdout",
          "text": [
            "Mounted at /content/drive\n"
          ]
        }
      ],
      "source": [
        "from google.colab import drive\n",
        "drive.mount(\"/content/drive\")"
      ]
    },
    {
      "cell_type": "code",
      "execution_count": null,
      "metadata": {
        "id": "kGVD4I_u6IYb"
      },
      "outputs": [],
      "source": [
        "ZIPPED_PATH=\"/content/drive/MyDrive/car/car.zip\""
      ]
    },
    {
      "cell_type": "code",
      "execution_count": null,
      "metadata": {
        "colab": {
          "base_uri": "https://localhost:8080/"
        },
        "id": "Ukdv5qxhUNeA",
        "outputId": "1b8463cb-0eed-457e-c68d-b2922d3c3df9"
      },
      "outputs": [
        {
          "output_type": "stream",
          "name": "stdout",
          "text": [
            "Extraction complete.\n"
          ]
        },
        {
          "output_type": "stream",
          "name": "stderr",
          "text": [
            "/usr/local/lib/python3.11/dist-packages/torchvision/models/_utils.py:208: UserWarning: The parameter 'pretrained' is deprecated since 0.13 and may be removed in the future, please use 'weights' instead.\n",
            "  warnings.warn(\n",
            "/usr/local/lib/python3.11/dist-packages/torchvision/models/_utils.py:223: UserWarning: Arguments other than a weight enum or `None` for 'weights' are deprecated since 0.13 and may be removed in the future. The current behavior is equivalent to passing `weights=ResNet50_Weights.IMAGENET1K_V1`. You can also use `weights=ResNet50_Weights.DEFAULT` to get the most up-to-date weights.\n",
            "  warnings.warn(msg)\n"
          ]
        },
        {
          "output_type": "stream",
          "name": "stdout",
          "text": [
            "SVM Model Accuracy: 0.4445\n",
            "SVM Model Precision: 0.4514\n",
            "SVM Model Recall Score: 0.4445\n",
            "SVM Model F1 Score: 0.4445\n"
          ]
        }
      ],
      "source": [
        "import torch\n",
        "import torchvision.transforms as T\n",
        "import torchvision.models as models\n",
        "from PIL import Image\n",
        "import cv2\n",
        "import zipfile\n",
        "import numpy as np\n",
        "import pandas as pd\n",
        "import os\n",
        "from sklearn.svm import SVC\n",
        "from sklearn.preprocessing import LabelEncoder\n",
        "from sklearn.metrics import accuracy_score, precision_score, recall_score, f1_score, confusion_matrix, ConfusionMatrixDisplay\n",
        "import matplotlib.pyplot as plt\n",
        "\n",
        "device = torch.device(\"cuda\" if torch.cuda.is_available() else \"cpu\")\n",
        "\n",
        "# Destination folder for extraction\n",
        "extract_folder = \"/content/cars\"\n",
        "\n",
        "# Create the destination folder if it doesn't exist\n",
        "if not os.path.exists(extract_folder):\n",
        "    os.makedirs(extract_folder)\n",
        "\n",
        "with zipfile.ZipFile(ZIPPED_PATH, 'r') as zip_ref:\n",
        "    zip_ref.extractall(extract_folder)\n",
        "print(\"Extraction complete.\")\n",
        "\n",
        "# Load pre-trained ResNet-50 model (without final FC layer)\n",
        "resnet = models.resnet50(pretrained=True)\n",
        "resnet.fc = torch.nn.Identity()  # Remove final layer to get feature vector\n",
        "resnet.to(device)  # Move model to device\n",
        "resnet.eval()\n",
        "\n",
        "# Define Image Transform\n",
        "transform = T.Compose([\n",
        "    T.Resize((224, 224)),  # Resize for ResNet input\n",
        "    T.ToTensor(),\n",
        "    T.Normalize(mean=[0.485, 0.456, 0.406], std=[0.229, 0.224, 0.225])  # ImageNet normalization\n",
        "])\n",
        "\n",
        "\n",
        "# Function to extract features\n",
        "def extract_features(img_path):\n",
        "  try:\n",
        "    image = Image.open(img_path).convert(\"RGB\") # Ensure RGB mode\n",
        "  except Exception as e:\n",
        "    print(\"Error opening image:\", e)\n",
        "\n",
        "  image = transform(image).unsqueeze(0).to(device) # Apply transforms & move to GPU/CPU\n",
        "  with torch.no_grad():\n",
        "      feature_vector = resnet(image).cpu().numpy().flatten()  # Extract features\n",
        "  return feature_vector\n",
        "\n",
        "# Load annotations\n",
        "trainDF = pd.read_excel('/content/drive/MyDrive/car/cars_with_class_names.xlsx', sheet_name='train')\n",
        "testDF = pd.read_excel('/content/drive/MyDrive/car/cars_with_class_names.xlsx', sheet_name='test')\n",
        "\n",
        "# Convert DataFrame to NumPy Array\n",
        "trainArray = trainDF.to_numpy()\n",
        "testArray = testDF.to_numpy()\n",
        "\n",
        "# Paths to images\n",
        "train_folder = os.path.join(extract_folder, \"cars_train\", \"cars_train\")\n",
        "test_folder = os.path.join(extract_folder, \"cars_test\", \"cars_test\")\n",
        "\n",
        "#train_folder = \"/content/drive/MyDrive/car/cars_train/cars_train/\"\n",
        "#test_folder = \"/content/drive/MyDrive/car/cars_test/cars_test/\"\n",
        "\n",
        "# Extract train features and labels\n",
        "X_train, y_train = [], []\n",
        "for entry in trainArray:\n",
        "    img_path = os.path.join(train_folder, entry[7])  # Assuming filename is in first column\n",
        "    if os.path.exists(img_path):\n",
        "        X_train.append(extract_features(img_path))  # Extract features\n",
        "        y_train.append(entry[5])  # Assuming class label is in second column\n",
        "\n",
        "# Extract test features and labels\n",
        "X_test, y_test = [], []\n",
        "for entry in testArray:\n",
        "    filename = str(entry[6])\n",
        "    filename_fixed = filename.strip(\"'\\\"\")\n",
        "    img_path = os.path.join(test_folder, filename_fixed)\n",
        "    if os.path.exists(img_path):\n",
        "        X_test.append(extract_features(img_path)) # Extract features\n",
        "        y_test.append(entry[4])  # Assuming class label is in second column\n",
        "\n",
        "\n",
        "# Convert to NumPy arrays\n",
        "X_train = np.array(X_train)\n",
        "y_train = np.array(y_train)\n",
        "X_test = np.array(X_test)\n",
        "y_test = np.array(y_test)\n",
        "\n",
        "# Encode labels into numeric values\n",
        "label_encoder = LabelEncoder()\n",
        "y_train_encoded = label_encoder.fit_transform(y_train)\n",
        "y_test_encoded = label_encoder.transform(y_test)\n",
        "\n",
        "# Train an SVM Classifier\n",
        "svm_model = SVC(kernel='linear', C=1.0)  # Linear SVM\n",
        "svm_model.fit(X_train, y_train_encoded)\n",
        "\n",
        "# Make Predictions\n",
        "y_pred = svm_model.predict(X_test)\n",
        "\n",
        "# Evaluate Model\n",
        "accuracy = accuracy_score(y_test_encoded, y_pred)\n",
        "print(f\"SVM Model Accuracy: {accuracy:.4f}\")\n",
        "precision = precision_score(y_test_encoded, y_pred, average='weighted')\n",
        "print(f\"SVM Model Precision: {precision:.4f}\")\n",
        "recall = recall_score(y_test_encoded, y_pred, average='weighted')\n",
        "print(f\"SVM Model Recall Score: {recall:.4f}\")\n",
        "f1 = f1_score(y_test_encoded, y_pred, average='weighted')\n",
        "print(f\"SVM Model F1 Score: {recall:.4f}\")\n",
        "\n",
        "\n",
        "\n",
        "\n"
      ]
    }
  ],
  "metadata": {
    "accelerator": "GPU",
    "colab": {
      "gpuType": "T4",
      "provenance": []
    },
    "kernelspec": {
      "display_name": "Python 3",
      "name": "python3"
    },
    "language_info": {
      "name": "python"
    }
  },
  "nbformat": 4,
  "nbformat_minor": 0
}